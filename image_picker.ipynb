{
 "cells": [
  {
   "cell_type": "code",
   "execution_count": null,
   "metadata": {},
   "outputs": [],
   "source": [
    "import os\n",
    "import shutil\n",
    "import random\n",
    "\n",
    "def random_copy_images(source_folder, destination_folder, num_images):\n",
    "    # Get a list of all image files in the source folder\n",
    "    all_images = [f for f in os.listdir(source_folder)]\n",
    "\n",
    "    # Ensure that the number of requested images is not more than the available images\n",
    "    num_images = min(num_images, len(all_images))\n",
    "\n",
    "    # Randomly choose 'num_images' images\n",
    "    selected_images = random.sample(all_images, num_images)\n",
    "\n",
    "    # Create the destination folder if it doesn't exist\n",
    "    os.makedirs(destination_folder, exist_ok=True)\n",
    "\n",
    "    # Copy selected images to the destination folder\n",
    "    for image in selected_images:\n",
    "        source_path = os.path.join(source_folder, image)\n",
    "        destination_path = os.path.join(destination_folder, image)\n",
    "        shutil.copy2(source_path, destination_path)\n",
    "\n",
    "if __name__ == \"__main__\":\n",
    "    # Replace 'source_folder' and 'destination_folder' with your actual folder paths\n",
    "    source_folder = \"landscape_images\"\n",
    "    destination_folder = \"midjourney_sample\"\n",
    "    \n",
    "    # Specify the number of images to randomly choose\n",
    "    num_images_to_copy = 600\n",
    "\n",
    "    # Call the function to copy the randomly selected images\n",
    "    random_copy_images(source_folder, destination_folder, num_images_to_copy)"
   ]
  }
 ],
 "metadata": {
  "language_info": {
   "name": "python"
  }
 },
 "nbformat": 4,
 "nbformat_minor": 2
}
